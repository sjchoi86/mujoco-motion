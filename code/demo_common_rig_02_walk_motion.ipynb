{
 "cells": [
  {
   "cell_type": "markdown",
   "id": "8cd4e2de",
   "metadata": {},
   "source": [
    "### Playback walk motion"
   ]
  },
  {
   "cell_type": "code",
   "execution_count": 1,
   "id": "c0baeb9f",
   "metadata": {},
   "outputs": [
    {
     "name": "stdout",
     "output_type": "stream",
     "text": [
      "MuJoCo version:[2.3.6]\n"
     ]
    }
   ],
   "source": [
    "import pickle\n",
    "import mujoco\n",
    "import numpy as np\n",
    "import matplotlib.pyplot as plt\n",
    "from mujoco_parser import MuJoCoParserClass\n",
    "from util import rpy2r,MultiSliderClass\n",
    "np.set_printoptions(precision=2,suppress=True,linewidth=100)\n",
    "plt.rc('xtick',labelsize=6); plt.rc('ytick',labelsize=6)\n",
    "%config InlineBackend.figure_format = 'retina'\n",
    "%matplotlib inline\n",
    "print (\"MuJoCo version:[%s]\"%(mujoco.__version__))"
   ]
  },
  {
   "cell_type": "markdown",
   "id": "eaa57176",
   "metadata": {},
   "source": [
    "### Parse"
   ]
  },
  {
   "cell_type": "code",
   "execution_count": 2,
   "id": "cba606c3",
   "metadata": {},
   "outputs": [
    {
     "name": "stdout",
     "output_type": "stream",
     "text": [
      "dt:[0.0050] HZ:[200]\n",
      "n_dof (=nv):[41]\n",
      "n_geom:[26]\n",
      "geom_names:['floor', 'base', 'root2spine', 'spine2neck', 'neck2rshoulder', 'neck2lshoulder', 'rshoulder2relbow', 'relbow2rwrist', 'rthumb', 'rpalm', 'lshoulder2lelbow', 'lelbow2lwrist', 'lthumb', 'lpalm', 'head', 'nose', 'base2rpelvis', 'rpelvis2rknee', 'rknee2rankle', 'rankle', 'rfoot', 'base2lpelvis', 'lpelvis2lknee', 'lknee2lankle', 'lankle', 'lfoot']\n",
      "n_body:[20]\n",
      "body_names:['world', 'base', 'torso', 'spine', 'neck', 'right_shoulder', 'right_elbow', 'right_hand', 'left_shoulder', 'left_elbow', 'left_hand', 'head', 'right_leg', 'right_pelvis', 'right_knee', 'right_ankle', 'left_leg', 'left_pelvis', 'left_knee', 'left_ankle']\n",
      "n_joint:[36]\n",
      "joint_names:['base', 'root1', 'root2', 'root3', 'spine', 'rs1', 'rs2', 'rs3', 're', 'rw1', 'rw2', 'rw3', 'ls1', 'ls2', 'ls3', 'le', 'lw1', 'lw2', 'lw3', 'head1', 'head2', 'head3', 'rp1', 'rp2', 'rp3', 'rk', 'ra1', 'ra2', 'ra3', 'lp1', 'lp2', 'lp3', 'lk', 'la1', 'la2', 'la3']\n",
      "joint_types:[0 3 3 3 3 3 3 3 3 3 3 3 3 3 3 3 3 3 3 3 3 3 3 3 3 3 3 3 3 3 3 3 3 3 3 3]\n",
      "joint_ranges:\n",
      "[[ 0.    0.  ]\n",
      " [-3.14  3.14]\n",
      " [-3.14  3.14]\n",
      " [-3.14  3.14]\n",
      " [-3.14  3.14]\n",
      " [-3.14  3.14]\n",
      " [-3.14  3.14]\n",
      " [-3.14  3.14]\n",
      " [ 0.01  2.62]\n",
      " [-3.14  3.14]\n",
      " [-3.14  3.14]\n",
      " [-3.14  3.14]\n",
      " [-3.14  3.14]\n",
      " [-3.14  3.14]\n",
      " [-3.14  3.14]\n",
      " [-2.62 -0.01]\n",
      " [-3.14  3.14]\n",
      " [-3.14  3.14]\n",
      " [-3.14  3.14]\n",
      " [-3.14  3.14]\n",
      " [-3.14  3.14]\n",
      " [-3.14  3.14]\n",
      " [-3.14  3.14]\n",
      " [-3.14  3.14]\n",
      " [-0.52  0.52]\n",
      " [ 0.02  2.09]\n",
      " [-3.14  3.14]\n",
      " [-3.14  3.14]\n",
      " [-3.14  3.14]\n",
      " [-3.14  3.14]\n",
      " [-3.14  3.14]\n",
      " [-3.14  3.14]\n",
      " [ 0.02  2.09]\n",
      " [-3.14  3.14]\n",
      " [-3.14  3.14]\n",
      " [-0.52  0.52]]\n",
      "n_rev_joint:[35]\n",
      "rev_joint_idxs:[ 1  2  3  4  5  6  7  8  9 10 11 12 13 14 15 16 17 18 19 20 21 22 23 24 25 26 27 28 29 30 31 32 33\n",
      " 34 35]\n",
      "rev_joint_names:['root1', 'root2', 'root3', 'spine', 'rs1', 'rs2', 'rs3', 're', 'rw1', 'rw2', 'rw3', 'ls1', 'ls2', 'ls3', 'le', 'lw1', 'lw2', 'lw3', 'head1', 'head2', 'head3', 'rp1', 'rp2', 'rp3', 'rk', 'ra1', 'ra2', 'ra3', 'lp1', 'lp2', 'lp3', 'lk', 'la1', 'la2', 'la3']\n",
      "rev_joint_mins:[-3.14 -3.14 -3.14 -3.14 -3.14 -3.14 -3.14  0.01 -3.14 -3.14 -3.14 -3.14 -3.14 -3.14 -2.62 -3.14\n",
      " -3.14 -3.14 -3.14 -3.14 -3.14 -3.14 -3.14 -0.52  0.02 -3.14 -3.14 -3.14 -3.14 -3.14 -3.14  0.02\n",
      " -3.14 -3.14 -0.52]\n",
      "rev_joint_maxs:[ 3.14  3.14  3.14  3.14  3.14  3.14  3.14  2.62  3.14  3.14  3.14  3.14  3.14  3.14 -0.01  3.14\n",
      "  3.14  3.14  3.14  3.14  3.14  3.14  3.14  0.52  2.09  3.14  3.14  3.14  3.14  3.14  3.14  2.09\n",
      "  3.14  3.14  0.52]\n",
      "rev_joint_ranges:[6.28 6.28 6.28 6.28 6.28 6.28 6.28 2.61 6.28 6.28 6.28 6.28 6.28 6.28 2.61 6.28 6.28 6.28 6.28\n",
      " 6.28 6.28 6.28 6.28 1.05 2.08 6.28 6.28 6.28 6.28 6.28 6.28 2.08 6.28 6.28 1.05]\n",
      "n_pri_joint:[0]\n",
      "pri_joint_idxs:[]\n",
      "pri_joint_names:[]\n",
      "pri_joint_mins:[]\n",
      "pri_joint_maxs:[]\n",
      "pri_joint_ranges:[]\n",
      "n_ctrl:[35]\n",
      "ctrl_names:['root1', 'root2', 'root3', 'spine', 'rs1', 'rs2', 'rs3', 're', 'rw1', 'rw2', 'rw3', 'ls1', 'ls2', 'ls3', 'le', 'lw1', 'lw2', 'lw3', 'rp1', 'rp2', 'rp3', 'rk', 'ra1', 'ra2', 'ra3', 'lp1', 'lp2', 'lp3', 'lk', 'la1', 'la2', 'la3', 'head1', 'head2', 'head3']\n",
      "ctrl_joint_idxs:[7, 8, 9, 10, 11, 12, 13, 14, 15, 16, 17, 18, 19, 20, 21, 22, 23, 24, 28, 29, 30, 31, 32, 33, 34, 35, 36, 37, 38, 39, 40, 41, 25, 26, 27]\n",
      "ctrl_joint_names:['root1', 'root2', 'root3', 'spine', 'rs1', 'rs2', 'rs3', 're', 'rw1', 'rw2', 'rw3', 'ls1', 'ls2', 'ls3', 'le', 'lw1', 'lw2', 'lw3', 'rp1', 'rp2', 'rp3', 'rk', 'ra1', 'ra2', 'ra3', 'lp1', 'lp2', 'lp3', 'lk', 'la1', 'la2', 'la3', 'head1', 'head2', 'head3']\n",
      "ctrl_qvel_idxs:[6, 7, 8, 9, 10, 11, 12, 13, 14, 15, 16, 17, 18, 19, 20, 21, 22, 23, 27, 28, 29, 30, 31, 32, 33, 34, 35, 36, 37, 38, 39, 40, 24, 25, 26]\n",
      "ctrl_ranges:\n",
      "[[-0.4  0.4]\n",
      " [-0.4  0.4]\n",
      " [-0.4  0.4]\n",
      " [-0.4  0.4]\n",
      " [-0.4  0.4]\n",
      " [-0.4  0.4]\n",
      " [-0.4  0.4]\n",
      " [-0.4  0.4]\n",
      " [-0.4  0.4]\n",
      " [-0.4  0.4]\n",
      " [-0.4  0.4]\n",
      " [-0.4  0.4]\n",
      " [-0.4  0.4]\n",
      " [-0.4  0.4]\n",
      " [-0.4  0.4]\n",
      " [-0.4  0.4]\n",
      " [-0.4  0.4]\n",
      " [-0.4  0.4]\n",
      " [-0.4  0.4]\n",
      " [-0.4  0.4]\n",
      " [-0.4  0.4]\n",
      " [-0.4  0.4]\n",
      " [-0.4  0.4]\n",
      " [-0.4  0.4]\n",
      " [-0.4  0.4]\n",
      " [-0.4  0.4]\n",
      " [-0.4  0.4]\n",
      " [-0.4  0.4]\n",
      " [-0.4  0.4]\n",
      " [-0.4  0.4]\n",
      " [-0.4  0.4]\n",
      " [-0.4  0.4]\n",
      " [-0.4  0.4]\n",
      " [-0.4  0.4]\n",
      " [-0.4  0.4]]\n",
      "n_sensor:[0]\n",
      "sensor_names:[]\n",
      "n_site:[0]\n",
      "site_names:[]\n",
      "Done.\n"
     ]
    }
   ],
   "source": [
    "xml_path = '../asset/common_rig/scene_common_rig_v2.xml'\n",
    "env = MuJoCoParserClass(name='Common Rig',rel_xml_path=xml_path,VERBOSE=True)\n",
    "# Modify the color of body exluding 'world'\n",
    "for body_name in env.body_names:\n",
    "    if body_name in ['world']: continue\n",
    "    body_idx = env.body_names.index(body_name)\n",
    "    geom_idxs = [idx for idx,val in enumerate(env.model.geom_bodyid) if val==body_idx]\n",
    "    for geom_idx in geom_idxs:\n",
    "        env.model.geom(geom_idx).rgba = [0.3,0.3,0.5,0.5]\n",
    "print (\"Done.\")"
   ]
  },
  {
   "cell_type": "markdown",
   "id": "8391fdd5",
   "metadata": {},
   "source": [
    "### Load walking motion"
   ]
  },
  {
   "cell_type": "code",
   "execution_count": 3,
   "id": "e618b2f4",
   "metadata": {},
   "outputs": [],
   "source": [
    "pkl_path = '../data/common_rig_v2_walk.pkl'\n",
    "with open(pkl_path, 'rb') as f:\n",
    "    data = pickle.load(f)\n",
    "qs         = data['qpos']\n",
    "quat_roots = data['rotation'][:,0,:]\n",
    "p_roots    = data['root_translation']\n",
    "L = qs.shape[0]"
   ]
  },
  {
   "cell_type": "code",
   "execution_count": 4,
   "id": "de7fac75",
   "metadata": {},
   "outputs": [],
   "source": [
    "# Set which joints to control\n",
    "rev_joint_names = env.ctrl_names # <==\n",
    "joint_idxs_fwd = env.get_idxs_fwd(joint_names=rev_joint_names)\n",
    "joint_idxs_jac = env.get_idxs_jac(joint_names=rev_joint_names)\n",
    "q_rev_init = env.get_qpos_joints(rev_joint_names)\n",
    "n_rev_joint = len(rev_joint_names)"
   ]
  },
  {
   "cell_type": "code",
   "execution_count": 5,
   "id": "fb012892",
   "metadata": {},
   "outputs": [
    {
     "name": "stdout",
     "output_type": "stream",
     "text": [
      "Ready.\n"
     ]
    }
   ],
   "source": [
    "tick_slider = MultiSliderClass(\n",
    "    n_slider      = 1,\n",
    "    title         = 'Tick slider',\n",
    "    window_width  = 500,\n",
    "    window_height = 100,\n",
    "    x_offset      = 100,\n",
    "    y_offset      = 0,\n",
    "    slider_width  = 350,\n",
    "    label_texts   = ['Tick'],\n",
    "    slider_mins   = [0],\n",
    "    slider_maxs  = [L-1],\n",
    "    slider_vals  = [0],\n",
    "    resolution   = 0.5,\n",
    "    VERBOSE      = False\n",
    ")\n",
    "for _ in range(100): tick_slider.update() # to avoid GIL-related error\n",
    "print (\"Ready.\")"
   ]
  },
  {
   "cell_type": "code",
   "execution_count": 6,
   "id": "025958f6",
   "metadata": {},
   "outputs": [
    {
     "name": "stdout",
     "output_type": "stream",
     "text": [
      "Pressed ESC\n",
      "Quitting.\n",
      "Done.\n"
     ]
    }
   ],
   "source": [
    "# Initialize MuJoCo viewer\n",
    "env.init_viewer(viewer_title='Common Rig',viewer_width=1200,viewer_height=800,\n",
    "                viewer_hide_menus=True)\n",
    "env.update_viewer(azimuth=152,distance=3.0,elevation=-30,lookat=[0.02,-0.03,0.8])\n",
    "env.reset()\n",
    "while env.is_viewer_alive():\n",
    "    # Update\n",
    "    tick_slider.update()\n",
    "    slider_val = tick_slider.get_slider_values()\n",
    "    tick = int(slider_val[0])\n",
    "    q         = qs[tick,:] # [35]\n",
    "    p_root    = p_roots[tick,:] # [3]\n",
    "    quat_root = quat_roots[tick,:] # [4] quaternion\n",
    "    env.set_p_root(root_name='base',p=p_root)\n",
    "    env.set_quat_root(root_name='base',quat=quat_root[[3,0,1,2]])\n",
    "    env.forward(q=q,joint_idxs=joint_idxs_fwd)\n",
    "    \n",
    "    # Render\n",
    "    if True:\n",
    "        # Plot world frame\n",
    "        env.plot_T(p=np.zeros(3),R=np.eye(3,3),\n",
    "                   PLOT_AXIS=True,axis_len=0.5,axis_width=0.005)\n",
    "        env.plot_T(p=np.array([0,0,0.5]),R=np.eye(3,3),\n",
    "                   PLOT_AXIS=False,label=\"tick:[%d]\"%(tick))\n",
    "        # Plot foot\n",
    "        env.plot_geom_T(geom_name='rfoot',axis_len=0.3)\n",
    "        env.plot_geom_T(geom_name='lfoot',axis_len=0.3)\n",
    "        # Plot revolute joints with arrow\n",
    "        env.plot_joint_axis(axis_len=0.1,axis_r=0.01)    \n",
    "        env.render()\n",
    "# Close MuJoCo viewer\n",
    "env.close_viewer()\n",
    "tick_slider.close()\n",
    "print (\"Done.\")"
   ]
  },
  {
   "cell_type": "code",
   "execution_count": null,
   "id": "e97be344",
   "metadata": {},
   "outputs": [],
   "source": []
  }
 ],
 "metadata": {
  "kernelspec": {
   "display_name": "Python 3 (ipykernel)",
   "language": "python",
   "name": "python3"
  },
  "language_info": {
   "codemirror_mode": {
    "name": "ipython",
    "version": 3
   },
   "file_extension": ".py",
   "mimetype": "text/x-python",
   "name": "python",
   "nbconvert_exporter": "python",
   "pygments_lexer": "ipython3",
   "version": "3.9.16"
  }
 },
 "nbformat": 4,
 "nbformat_minor": 5
}
