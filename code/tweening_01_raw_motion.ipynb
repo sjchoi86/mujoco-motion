{
 "cells": [
  {
   "cell_type": "markdown",
   "id": "04f0f2c3",
   "metadata": {},
   "source": [
    "### Playback raw motions for `motion-inbetweening`"
   ]
  },
  {
   "cell_type": "code",
   "execution_count": 1,
   "id": "7cefaaff",
   "metadata": {},
   "outputs": [
    {
     "name": "stdout",
     "output_type": "stream",
     "text": [
      "MuJoCo version:[2.3.6]\n"
     ]
    }
   ],
   "source": [
    "import time,pickle,mujoco\n",
    "import numpy as np\n",
    "import matplotlib.pyplot as plt\n",
    "from mujoco_parser import MuJoCoParserClass\n",
    "from util import rpy2r,r2quat,MultiSliderClass\n",
    "np.set_printoptions(precision=2,suppress=True,linewidth=100)\n",
    "plt.rc('xtick',labelsize=6); plt.rc('ytick',labelsize=6)\n",
    "%config InlineBackend.figure_format = 'retina'\n",
    "%matplotlib inline\n",
    "print (\"MuJoCo version:[%s]\"%(mujoco.__version__))"
   ]
  },
  {
   "cell_type": "markdown",
   "id": "12a17a72",
   "metadata": {},
   "source": [
    "### Parse `scene_common_rig_v2.xml`"
   ]
  },
  {
   "cell_type": "code",
   "execution_count": 2,
   "id": "f05437b0",
   "metadata": {},
   "outputs": [
    {
     "name": "stdout",
     "output_type": "stream",
     "text": [
      "Done.\n"
     ]
    }
   ],
   "source": [
    "xml_path = '../asset/common_rig/scene_common_rig_v2.xml'\n",
    "env = MuJoCoParserClass(name='Common Rig',rel_xml_path=xml_path,VERBOSE=False)\n",
    "# Modify the color of body exluding 'world'\n",
    "for body_name in env.body_names:\n",
    "    if body_name in ['world']: continue\n",
    "    body_idx = env.body_names.index(body_name)\n",
    "    geom_idxs = [idx for idx,val in enumerate(env.model.geom_bodyid) if val==body_idx]\n",
    "    for geom_idx in geom_idxs: env.model.geom(geom_idx).rgba = [0.9,0.9,0.9,0.5]\n",
    "print (\"Done.\")\n",
    "# Set which joints to control\n",
    "rev_joint_names = env.ctrl_names \n",
    "joint_idxs_fwd = env.get_idxs_fwd(joint_names=rev_joint_names)\n",
    "joint_idxs_jac = env.get_idxs_jac(joint_names=rev_joint_names)\n",
    "q_rev_init = env.get_qpos_joints(rev_joint_names)\n",
    "n_rev_joint = len(rev_joint_names)"
   ]
  },
  {
   "cell_type": "code",
   "execution_count": 3,
   "id": "941ddee4",
   "metadata": {},
   "outputs": [],
   "source": [
    "pkl_path = '../data/VAAI_DIRECT_09_02_a_M1.pkl'\n",
    "# pkl_path = '../data/VAAI_DIRECT_03_01_a_M1.pkl'\n",
    "\n",
    "# pkl_path = '../data/VAAI_DIRECT_10_01_c_M1.pkl'\n",
    "# pkl_path = '../data/VAAI_DIRECT_20_01_a_M1.pkl'\n",
    "with open(pkl_path, 'rb') as f:\n",
    "    data = pickle.load(f)\n",
    "qs = data['qpos'][:,list(range(0,4))+list(range(5,12))+list(range(13,37))] # [L x 35]\n",
    "quat_roots = r2quat(data['root_rot'])\n",
    "p_roots = data['root_translation']\n",
    "L = qs.shape[0]"
   ]
  },
  {
   "cell_type": "code",
   "execution_count": 4,
   "id": "268e7c51",
   "metadata": {},
   "outputs": [],
   "source": [
    "tick_slider = MultiSliderClass(\n",
    "    n_slider      = 1,\n",
    "    title         = 'Tick slider',\n",
    "    window_width  = 500,\n",
    "    window_height = 100,\n",
    "    x_offset      = 100,\n",
    "    y_offset      = 0,\n",
    "    slider_width  = 350,\n",
    "    label_texts   = ['Tick'],\n",
    "    slider_mins   = [0],\n",
    "    slider_maxs   = [L-1],\n",
    "    slider_vals   = [0],\n",
    "    resolution    = 0.5,\n",
    "    ADD_PLAYBACK  = True,\n",
    "    VERBOSE       = False\n",
    ")"
   ]
  },
  {
   "cell_type": "code",
   "execution_count": 5,
   "id": "c32cb93b",
   "metadata": {},
   "outputs": [
    {
     "name": "stdout",
     "output_type": "stream",
     "text": [
      "Pressed ESC\n",
      "Quitting.\n",
      "Done.\n"
     ]
    }
   ],
   "source": [
    "# Initialize MuJoCo viewer\n",
    "env.init_viewer(viewer_title='Common Rig',viewer_width=1200,viewer_height=800,\n",
    "                viewer_hide_menus=True)\n",
    "env.update_viewer(azimuth=152,distance=3.0,elevation=-30,lookat=[0.02,-0.03,0.8])\n",
    "env.reset()\n",
    "tick = 0\n",
    "while env.is_viewer_alive():\n",
    "    # Update \n",
    "    time.sleep(1e-10) # little delay helps\n",
    "    tick_slider.update()\n",
    "    if tick_slider.PLAYBACK: # play mode\n",
    "        tick = min(tick+1,L-1)\n",
    "        if tick == (L-1): tick_slider.reset_playback()\n",
    "        tick_slider.set_slider_values([tick])\n",
    "    else: # stop mode\n",
    "        slider_val = tick_slider.get_slider_values()\n",
    "        tick = int(slider_val[0])\n",
    "    \n",
    "    # FK\n",
    "    q = qs[tick,:] # [35]\n",
    "    p_root = p_roots[tick,:] # [3]\n",
    "    quat_root = quat_roots[tick,:] # [4] quaternion\n",
    "    env.set_p_root(root_name='base',p=p_root)\n",
    "    env.set_quat_root(root_name='base',quat=quat_root)\n",
    "    env.forward(q=q,joint_idxs=joint_idxs_fwd)\n",
    "    \n",
    "    if env.loop_every(tick_every=100) or tick_slider.PLAYBACK:\n",
    "        # Plot world frame\n",
    "        env.plot_T(p=np.zeros(3),R=np.eye(3,3),\n",
    "                   PLOT_AXIS=True,axis_len=0.5,axis_width=0.005)\n",
    "        env.plot_T(p=np.array([0,0,0.5]),R=np.eye(3,3),\n",
    "                   PLOT_AXIS=False,label=\"tick:[%d]\"%(tick))\n",
    "        # Plot foot\n",
    "        env.plot_geom_T(geom_name='rfoot',axis_len=0.3)\n",
    "        env.plot_geom_T(geom_name='lfoot',axis_len=0.3)\n",
    "        # Plot revolute joints with arrow\n",
    "        env.plot_joint_axis(axis_len=0.1,axis_r=0.01)    \n",
    "        env.render()\n",
    "        \n",
    "# Close MuJoCo viewer\n",
    "env.close_viewer()\n",
    "tick_slider.close()\n",
    "print (\"Done.\")"
   ]
  },
  {
   "cell_type": "code",
   "execution_count": null,
   "id": "d5eab410",
   "metadata": {},
   "outputs": [],
   "source": []
  }
 ],
 "metadata": {
  "kernelspec": {
   "display_name": "Python 3 (ipykernel)",
   "language": "python",
   "name": "python3"
  },
  "language_info": {
   "codemirror_mode": {
    "name": "ipython",
    "version": 3
   },
   "file_extension": ".py",
   "mimetype": "text/x-python",
   "name": "python",
   "nbconvert_exporter": "python",
   "pygments_lexer": "ipython3",
   "version": "3.9.16"
  }
 },
 "nbformat": 4,
 "nbformat_minor": 5
}
