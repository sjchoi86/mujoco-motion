{
 "cells": [
  {
   "cell_type": "markdown",
   "id": "4d8b4643",
   "metadata": {},
   "source": [
    "### Feet Anchoring"
   ]
  },
  {
   "cell_type": "code",
   "execution_count": 1,
   "id": "97d396cf",
   "metadata": {},
   "outputs": [
    {
     "name": "stdout",
     "output_type": "stream",
     "text": [
      "MuJoCo version:[2.3.6]\n"
     ]
    }
   ],
   "source": [
    "import time,pickle,mujoco\n",
    "import numpy as np\n",
    "import matplotlib.pyplot as plt\n",
    "from mujoco_parser import MuJoCoParserClass\n",
    "from util import rpy2r,r2quat,MultiSliderClass,animiate_motion_with_slider,pr2t,feet_anchoring\n",
    "np.set_printoptions(precision=2,suppress=True,linewidth=100)\n",
    "plt.rc('xtick',labelsize=6); plt.rc('ytick',labelsize=6)\n",
    "%config InlineBackend.figure_format = 'retina'\n",
    "%matplotlib inline\n",
    "print (\"MuJoCo version:[%s]\"%(mujoco.__version__))"
   ]
  },
  {
   "cell_type": "markdown",
   "id": "2cbdb669",
   "metadata": {},
   "source": [
    "### Initialize tick slider"
   ]
  },
  {
   "cell_type": "code",
   "execution_count": 2,
   "id": "f1bb1bd9",
   "metadata": {},
   "outputs": [
    {
     "name": "stdout",
     "output_type": "stream",
     "text": [
      "[Tick slider] Ready.\n"
     ]
    }
   ],
   "source": [
    "# Open this once, and let's not close this. There's some problem with closing tkinter obj.\n",
    "tick_slider = MultiSliderClass(\n",
    "    n_slider=1,title='Tick slider',window_width=500,window_height=100,\n",
    "    x_offset=950,y_offset=900,slider_width=350,label_texts=['Tick'],\n",
    "    slider_mins=[0],slider_maxs=[100-1],slider_vals=[0],resolution=0.5,\n",
    "    ADD_PLAYBACK=True,VERBOSE= False)\n",
    "print (\"[%s] Ready.\"%(tick_slider.title))"
   ]
  },
  {
   "cell_type": "markdown",
   "id": "9114f03b",
   "metadata": {},
   "source": [
    "### Parse `scene_common_rig_v2.xml`"
   ]
  },
  {
   "cell_type": "code",
   "execution_count": 3,
   "id": "ecae40c2",
   "metadata": {},
   "outputs": [
    {
     "name": "stdout",
     "output_type": "stream",
     "text": [
      "Done.\n"
     ]
    }
   ],
   "source": [
    "xml_path = '../asset/common_rig/scene_common_rig_v2.xml'\n",
    "env = MuJoCoParserClass(name='Common Rig',rel_xml_path=xml_path,VERBOSE=False)\n",
    "# Modify the color of body exluding 'world'\n",
    "for body_name in env.body_names:\n",
    "    if body_name in ['world']: continue\n",
    "    body_idx = env.body_names.index(body_name)\n",
    "    geom_idxs = [idx for idx,val in enumerate(env.model.geom_bodyid) if val==body_idx]\n",
    "    for geom_idx in geom_idxs: env.model.geom(geom_idx).rgba = [0.9,0.9,0.9,0.5]\n",
    "# Set which joints to control\n",
    "rev_joint_names = env.ctrl_names \n",
    "print (\"Done.\")"
   ]
  },
  {
   "cell_type": "markdown",
   "id": "93eea5d8",
   "metadata": {},
   "source": [
    "### Load motion"
   ]
  },
  {
   "cell_type": "code",
   "execution_count": 4,
   "id": "22eab6d9",
   "metadata": {},
   "outputs": [
    {
     "name": "stdout",
     "output_type": "stream",
     "text": [
      "L:[136]\n"
     ]
    }
   ],
   "source": [
    "# pkl_path = '../data/VAAI_DIRECT_09_02_a_M1.pkl'\n",
    "pkl_path = '../data/VAAI_DIRECT_03_01_a_M1.pkl'\n",
    "# pkl_path = '../data/VAAI_DIRECT_10_01_c_M1.pkl'\n",
    "# pkl_path = '../data/VAAI_DIRECT_20_01_a_M1.pkl'\n",
    "with open(pkl_path, 'rb') as f: data = pickle.load(f)\n",
    "q_list         = data['qpos'][:,list(range(0,4))+list(range(5,12))+list(range(13,37))] # [L x 35]\n",
    "quat_root_list = r2quat(data['root_rot']) # [L x 4]\n",
    "p_root_list    = data['root_translation'] # [L x 3]\n",
    "L = q_list.shape[0]\n",
    "print (\"L:[%d]\"%(L))"
   ]
  },
  {
   "cell_type": "code",
   "execution_count": 5,
   "id": "691cce0c",
   "metadata": {},
   "outputs": [
    {
     "name": "stdout",
     "output_type": "stream",
     "text": [
      "Pressed ESC\n",
      "Quitting.\n"
     ]
    }
   ],
   "source": [
    "# Raw motion\n",
    "animiate_motion_with_slider(\n",
    "    env,tick_slider,q_list,p_root_list,quat_root_list,rev_joint_names,\n",
    "    PLAY_AT_START=True)"
   ]
  },
  {
   "cell_type": "markdown",
   "id": "17041f56",
   "metadata": {},
   "source": [
    "### Feet anchoring\n",
    "Fix the locations of two feets on the ground"
   ]
  },
  {
   "cell_type": "code",
   "execution_count": 6,
   "id": "6de58156",
   "metadata": {},
   "outputs": [
    {
     "name": "stdout",
     "output_type": "stream",
     "text": [
      "Start feet anchoring...\n",
      "Feet anchoring done (L:[136])\n"
     ]
    }
   ],
   "source": [
    "print (\"Start feet anchoring...\")\n",
    "res = feet_anchoring(env,q_list,quat_root_list,p_root_list,rev_joint_names,\n",
    "                     p_cfoot_offset = np.array([0,0,0.02]),d_rf2lf_custom=0.3,\n",
    "                     ik_th=1e-3,ik_iters=5000,ANIMATE_IK=False)\n",
    "print (\"Feet anchoring done (L:[%d])\"%(res['L']))\n",
    "p_root_centered_list,q_feetanchor_list = res['p_root_centered_list'],res['q_feetanchor_list']"
   ]
  },
  {
   "cell_type": "markdown",
   "id": "666aea01",
   "metadata": {},
   "source": [
    "### Animate motion"
   ]
  },
  {
   "cell_type": "code",
   "execution_count": 7,
   "id": "edc4abcf",
   "metadata": {},
   "outputs": [
    {
     "name": "stderr",
     "output_type": "stream",
     "text": [
      "2023-10-09 22:40:50.351 python[49572:2964599] IMKClient Stall detected, *please Report* your user scenario attaching a spindump (or sysdiagnose) that captures the problem - (imkxpc_bundleIdentifierWithReply:) block performed very slowly (369.44 secs).\n"
     ]
    },
    {
     "name": "stdout",
     "output_type": "stream",
     "text": [
      "Pressed ESC\n",
      "Quitting.\n"
     ]
    }
   ],
   "source": [
    "# Raw motion\n",
    "animiate_motion_with_slider(\n",
    "    env,tick_slider,q_list,p_root_list,quat_root_list,rev_joint_names,\n",
    "    PLAY_AT_START=True)"
   ]
  },
  {
   "cell_type": "code",
   "execution_count": 8,
   "id": "e6791322",
   "metadata": {},
   "outputs": [
    {
     "name": "stdout",
     "output_type": "stream",
     "text": [
      "Pressed ESC\n",
      "Quitting.\n"
     ]
    }
   ],
   "source": [
    "# (intermediate) Centered motion\n",
    "animiate_motion_with_slider(\n",
    "    env,tick_slider,q_list,p_root_centered_list,quat_root_list,rev_joint_names,\n",
    "    PLAY_AT_START=True)"
   ]
  },
  {
   "cell_type": "code",
   "execution_count": 9,
   "id": "c8fcb633",
   "metadata": {},
   "outputs": [
    {
     "name": "stdout",
     "output_type": "stream",
     "text": [
      "Pressed ESC\n",
      "Quitting.\n"
     ]
    }
   ],
   "source": [
    "# Feet-anchored motion\n",
    "animiate_motion_with_slider(\n",
    "    env,tick_slider,q_feetanchor_list,p_root_centered_list,quat_root_list,rev_joint_names,\n",
    "    PLAY_AT_START=True)"
   ]
  },
  {
   "cell_type": "code",
   "execution_count": null,
   "id": "9eb2740f",
   "metadata": {},
   "outputs": [],
   "source": []
  }
 ],
 "metadata": {
  "kernelspec": {
   "display_name": "Python 3 (ipykernel)",
   "language": "python",
   "name": "python3"
  },
  "language_info": {
   "codemirror_mode": {
    "name": "ipython",
    "version": 3
   },
   "file_extension": ".py",
   "mimetype": "text/x-python",
   "name": "python",
   "nbconvert_exporter": "python",
   "pygments_lexer": "ipython3",
   "version": "3.9.16"
  }
 },
 "nbformat": 4,
 "nbformat_minor": 5
}
